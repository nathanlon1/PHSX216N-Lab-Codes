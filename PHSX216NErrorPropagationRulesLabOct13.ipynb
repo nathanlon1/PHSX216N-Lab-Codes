{
 "cells": [
  {
   "cell_type": "markdown",
   "id": "890009fb",
   "metadata": {},
   "source": [
    "<h1><b>Error Propagation Functions</b></h1>"
   ]
  },
  {
   "cell_type": "code",
   "execution_count": 63,
   "id": "535b96c5",
   "metadata": {},
   "outputs": [],
   "source": [
    "import numpy as np\n",
    "import math"
   ]
  },
  {
   "cell_type": "markdown",
   "id": "a1ecdff9",
   "metadata": {},
   "source": [
    "Rule 1: if <br>\n",
    "$ Q = cA $ <br>\n",
    "where c is a constant, then <br>\n",
    "$ \\delta Q = c \\delta A $"
   ]
  },
  {
   "cell_type": "code",
   "execution_count": 64,
   "id": "2f95f94c",
   "metadata": {},
   "outputs": [
    {
     "name": "stdout",
     "output_type": "stream",
     "text": [
      "0.147\n"
     ]
    }
   ],
   "source": [
    "def rule1(c, dA): # Where dA is error in A\n",
    "    dQ = c * dA\n",
    "    return dQ\n",
    "\n",
    "c, dA = 9.8, 0.015\n",
    "print(rule1(c, dA))"
   ]
  },
  {
   "cell_type": "markdown",
   "id": "b8dedd38",
   "metadata": {},
   "source": [
    "Rule 2: if <br>\n",
    "$ Q = cA^m $ <br>\n",
    "where c and m are constants, then <br>\n",
    "$ \\frac{\\delta Q}{|Q|} = |m| \\frac{\\delta A}{|A|} $ <br> \n",
    "or equivalently <br>\n",
    "$ \\delta Q = |cmA^{m-1}| \\delta A $ <br>"
   ]
  },
  {
   "cell_type": "code",
   "execution_count": 65,
   "id": "fe73a88e",
   "metadata": {},
   "outputs": [
    {
     "ename": "NameError",
     "evalue": "name 'a' is not defined",
     "output_type": "error",
     "traceback": [
      "\u001b[1;31m---------------------------------------------------------------------------\u001b[0m",
      "\u001b[1;31mNameError\u001b[0m                                 Traceback (most recent call last)",
      "\u001b[1;32m<ipython-input-65-457d7083e93e>\u001b[0m in \u001b[0;36m<module>\u001b[1;34m\u001b[0m\n\u001b[0;32m      4\u001b[0m \u001b[1;33m\u001b[0m\u001b[0m\n\u001b[0;32m      5\u001b[0m \u001b[0mc\u001b[0m\u001b[1;33m,\u001b[0m \u001b[0mA\u001b[0m\u001b[1;33m,\u001b[0m \u001b[0mm\u001b[0m\u001b[1;33m,\u001b[0m \u001b[0mdA\u001b[0m \u001b[1;33m=\u001b[0m \u001b[1;36m2\u001b[0m\u001b[1;33m,\u001b[0m \u001b[1;36m3\u001b[0m\u001b[1;33m,\u001b[0m \u001b[1;36m1.5\u001b[0m\u001b[1;33m,\u001b[0m \u001b[1;36m0.2\u001b[0m\u001b[1;33m\u001b[0m\u001b[1;33m\u001b[0m\u001b[0m\n\u001b[1;32m----> 6\u001b[1;33m \u001b[0mprint\u001b[0m\u001b[1;33m(\u001b[0m\u001b[0mrule2\u001b[0m\u001b[1;33m(\u001b[0m\u001b[0mc\u001b[0m\u001b[1;33m,\u001b[0m\u001b[0mA\u001b[0m\u001b[1;33m,\u001b[0m\u001b[0mm\u001b[0m\u001b[1;33m,\u001b[0m\u001b[0mdA\u001b[0m\u001b[1;33m)\u001b[0m\u001b[1;33m)\u001b[0m\u001b[1;33m\u001b[0m\u001b[1;33m\u001b[0m\u001b[0m\n\u001b[0m",
      "\u001b[1;32m<ipython-input-65-457d7083e93e>\u001b[0m in \u001b[0;36mrule2\u001b[1;34m(c, A, m, dA)\u001b[0m\n\u001b[0;32m      1\u001b[0m \u001b[1;32mdef\u001b[0m \u001b[0mrule2\u001b[0m\u001b[1;33m(\u001b[0m\u001b[0mc\u001b[0m\u001b[1;33m,\u001b[0m \u001b[0mA\u001b[0m\u001b[1;33m,\u001b[0m \u001b[0mm\u001b[0m\u001b[1;33m,\u001b[0m \u001b[0mdA\u001b[0m\u001b[1;33m)\u001b[0m\u001b[1;33m:\u001b[0m \u001b[1;31m# Where dA is error in A\u001b[0m\u001b[1;33m\u001b[0m\u001b[1;33m\u001b[0m\u001b[0m\n\u001b[1;32m----> 2\u001b[1;33m     \u001b[0mdQ\u001b[0m \u001b[1;33m=\u001b[0m \u001b[0mabs\u001b[0m\u001b[1;33m(\u001b[0m\u001b[0mc\u001b[0m\u001b[1;33m*\u001b[0m\u001b[0mm\u001b[0m\u001b[1;33m*\u001b[0m\u001b[1;33m(\u001b[0m\u001b[0ma\u001b[0m\u001b[1;33m**\u001b[0m\u001b[1;33m(\u001b[0m\u001b[0mm\u001b[0m\u001b[1;33m-\u001b[0m\u001b[1;36m1\u001b[0m\u001b[1;33m)\u001b[0m\u001b[1;33m)\u001b[0m\u001b[1;33m)\u001b[0m \u001b[1;33m*\u001b[0m \u001b[0mdA\u001b[0m\u001b[1;33m\u001b[0m\u001b[1;33m\u001b[0m\u001b[0m\n\u001b[0m\u001b[0;32m      3\u001b[0m     \u001b[1;32mreturn\u001b[0m \u001b[0mdQ\u001b[0m\u001b[1;33m\u001b[0m\u001b[1;33m\u001b[0m\u001b[0m\n\u001b[0;32m      4\u001b[0m \u001b[1;33m\u001b[0m\u001b[0m\n\u001b[0;32m      5\u001b[0m \u001b[0mc\u001b[0m\u001b[1;33m,\u001b[0m \u001b[0mA\u001b[0m\u001b[1;33m,\u001b[0m \u001b[0mm\u001b[0m\u001b[1;33m,\u001b[0m \u001b[0mdA\u001b[0m \u001b[1;33m=\u001b[0m \u001b[1;36m2\u001b[0m\u001b[1;33m,\u001b[0m \u001b[1;36m3\u001b[0m\u001b[1;33m,\u001b[0m \u001b[1;36m1.5\u001b[0m\u001b[1;33m,\u001b[0m \u001b[1;36m0.2\u001b[0m\u001b[1;33m\u001b[0m\u001b[1;33m\u001b[0m\u001b[0m\n",
      "\u001b[1;31mNameError\u001b[0m: name 'a' is not defined"
     ]
    }
   ],
   "source": [
    "def rule2(c, A, m, dA): # Where dA is error in A\n",
    "    dQ = abs(c*m*(a**(m-1))) * dA\n",
    "    return dQ\n",
    "    \n",
    "c, A, m, dA = 2, 3, 1.5, 0.2\n",
    "print(rule2(c,A,m,dA))"
   ]
  },
  {
   "cell_type": "markdown",
   "id": "58c01520",
   "metadata": {},
   "source": [
    "Rule 3: if <br>\n",
    "$ Q = A + B $ <br>\n",
    "then <br>\n",
    "$ \\delta Q = \\sqrt{\\delta A^2 + \\delta B^2 } $"
   ]
  },
  {
   "cell_type": "code",
   "execution_count": 66,
   "id": "513aea0f",
   "metadata": {},
   "outputs": [
    {
     "name": "stdout",
     "output_type": "stream",
     "text": [
      "7.615773105863909\n"
     ]
    }
   ],
   "source": [
    "def rule3(dA, dB): # Where dA and dB are error in A and B\n",
    "    dQ = math.sqrt(dA ** 2 + dB ** 2)\n",
    "    return dQ\n",
    "\n",
    "dA, dB = 3,7\n",
    "print(rule3(dA, dB))"
   ]
  },
  {
   "cell_type": "markdown",
   "id": "d3ab6341",
   "metadata": {},
   "source": [
    "Rule 4: if <br>\n",
    "$ Q = cA^m B^n C^p $ <br>\n",
    "where lowercase terms are constants, and more terms can be continuously added, then <br>\n",
    "$ \\delta Q = Q \\sqrt{ \n",
    "\\Big( \\frac{m \\delta A}{A} \\Big)^2 +\n",
    "\\Big( \\frac{n \\delta B}{B} \\Big)^2 +\n",
    "\\Big( \\frac{p \\delta C}{C} \\Big)^2\n",
    "} $"
   ]
  },
  {
   "cell_type": "code",
   "execution_count": 67,
   "id": "a23afe6b",
   "metadata": {},
   "outputs": [
    {
     "name": "stdout",
     "output_type": "stream",
     "text": [
      "0.18788560349318942\n"
     ]
    }
   ],
   "source": [
    "# Where the length of all 3 arrays are equal to the number of terms being multiplied\n",
    "# varArray contains the variables A, B, C, ... in order\n",
    "# powerArray contains the powers m, n, p, ... in order\n",
    "# and errorArray contains the error in the variables dA, dB, dC, ... in order\n",
    "def rule4(varArray, powerArray, errorArray, Q): \n",
    "    if not(len(varArray) == len(powerArray) == len(errorArray)):\n",
    "        raise ValueError(\"Your arrays are not of equal length and the error cannot be calculated.\")\n",
    "        \n",
    "    dQ = 0\n",
    "    for i in range(len(varArray)): # Sum inside the square root\n",
    "        dQ += ( (powerArray[i] * errorArray[i]) / varArray[i] ) ** 2\n",
    "    dQ = Q * math.sqrt(dQ)\n",
    "    return dQ\n",
    "\n",
    "varArr = [1,2,3]\n",
    "powerArr = [1,2, 0.5]\n",
    "errorArr = [0.02, 0.01, 0.03]\n",
    "Q = 8.2\n",
    "dQ = rule4(varArr, powerArr, errorArr, Q)\n",
    "print(dQ)"
   ]
  },
  {
   "cell_type": "markdown",
   "id": "66d78a3f",
   "metadata": {},
   "source": [
    "If multiple trials are performed and the mean value $ k_{avg} $ is calculated, then <br>\n",
    "$ \\delta k_{avg} = \\frac{\\sigma}{\\sqrt{N}} $ <br>\n",
    "where $ N $ is the number of trials, and $ \\sigma $ is the standard deviation, which is calculated as <br>\n",
    "$ \\sigma = \\sqrt{\n",
    " \\frac{1}{1 - N}\n",
    " \\sum_{i=1}^N \\big(k_{i} - k_{avg} \\big)\n",
    "} $"
   ]
  },
  {
   "cell_type": "code",
   "execution_count": 68,
   "id": "8531bd83",
   "metadata": {},
   "outputs": [
    {
     "name": "stdout",
     "output_type": "stream",
     "text": [
      "3.0 0.6666666666666667\n"
     ]
    }
   ],
   "source": [
    "# Where trialsArr is the table containing all trials\n",
    "# Returns the mean and the error in the mean in that order\n",
    "def errorInMultipleTrials(trialsArr): \n",
    "    arr = np.array(trialsArr)\n",
    "    Mean = np.average(arr)\n",
    "    dMean = np.std(arr) / math.sqrt(len(arr))\n",
    "    return Mean, dMean\n",
    "\n",
    "arr = [1,4,2,6,2,3]\n",
    "mean, dMean = errorInMultipleTrials(arr)\n",
    "print(mean, dMean)"
   ]
  },
  {
   "cell_type": "markdown",
   "id": "20285994",
   "metadata": {},
   "source": [
    "<h1><b>Ballistic Pendulum Lab</b></h1>"
   ]
  },
  {
   "cell_type": "markdown",
   "id": "195282e2",
   "metadata": {},
   "source": [
    "Method 1 <br>\n",
    "$ v_0 = 3.65 \\pm 0.03 $ m/s"
   ]
  },
  {
   "cell_type": "code",
   "execution_count": 80,
   "id": "523ac4f2",
   "metadata": {},
   "outputs": [
    {
     "name": "stdout",
     "output_type": "stream",
     "text": [
      "theta = 33.15 +/- 0.10124228365658293\n",
      "1 - cos(theta) = 0.16275816616226102 +/- 0.0019325183515630506\n",
      "V0 = 3.6528377602212045 +/- 0.02790373864146257\n"
     ]
    }
   ],
   "source": [
    "thetaArr = [33.5] * 4 + [33.0] * 5 + [32.5]\n",
    "thetaMean, dThetaMean = errorInMultipleTrials(thetaArr)\n",
    "print(\"theta =\", thetaMean, \"+/-\", dThetaMean)\n",
    "\n",
    "# Convert theta to radians\n",
    "thetaMean = math.radians(thetaMean)\n",
    "dThetaMean = math.radians(dThetaMean)\n",
    "\n",
    "oneMinusCosTheta = 1 - math.cos(thetaMean)\n",
    "errorOneMinusCosTheta = 1 - math.cos(thetaMean + dThetaMean) - (1 - math.cos(thetaMean - dThetaMean))\n",
    "print(\"1 - cos(theta) =\", oneMinusCosTheta, \"+/-\", errorOneMinusCosTheta)\n",
    "\n",
    "vNot = (0.2574 / 0.066) * math.sqrt(2 * 9.8 * 0.275 * oneMinusCosTheta)\n",
    "variableArr = [0.2574, 0.066, 0.275, oneMinusCosTheta]\n",
    "powerArr = [1, -1, 0.5, 0.5]\n",
    "errorArr = [0.0001, 0.0001, 0.0025, errorOneMinusCosTheta]\n",
    "dVNot = rule4(variableArr, powerArr, errorArr, vNot)\n",
    "print(\"V0 =\", vNot, \"+/-\", dVNot)"
   ]
  },
  {
   "cell_type": "markdown",
   "id": "f69fc5be",
   "metadata": {},
   "source": [
    "Method 2\n",
    "$ v_0 = 3.57 \\pm 0.01 $ m/s"
   ]
  },
  {
   "cell_type": "code",
   "execution_count": 79,
   "id": "36b0e42a",
   "metadata": {},
   "outputs": [
    {
     "name": "stdout",
     "output_type": "stream",
     "text": [
      "x = 1.6026 +/- 0.005342658514260509\n",
      "V0 = 3.567180067500618 +/- 0.014924142313819104\n"
     ]
    }
   ],
   "source": [
    "xArr = [17.7, 19.0, 19.2, 19.7, 20.8, 21.6, 21.6, 22.3, 22.8, 22.9]\n",
    "\n",
    "for i in range(len(xArr)):\n",
    "  xArr[i] += 139.5\n",
    "  xArr[i] /= 100\n",
    "\n",
    "xMean, dXMean = errorInMultipleTrials(xArr)\n",
    "print(\"x =\", xMean, \"+/-\", dXMean)\n",
    "\n",
    "vNot2 = xMean * math.sqrt(9.8 / (2 * 0.989))\n",
    "variableArr = [xMean, 0.989]\n",
    "powerArr = [1, -0.5]\n",
    "errorArr = [dXMean, 0.005]\n",
    "dVNot2 = rule4(variableArr, powerArr, errorArr, vNot2)\n",
    "print(\"V0 =\", vNot2, \"+/-\", dVNot2)"
   ]
  },
  {
   "cell_type": "markdown",
   "id": "17b43a86",
   "metadata": {},
   "source": [
    "<h1><b>Using Python for Calculations</b></h1>"
   ]
  },
  {
   "cell_type": "code",
   "execution_count": 81,
   "id": "92cf629b",
   "metadata": {},
   "outputs": [
    {
     "name": "stdout",
     "output_type": "stream",
     "text": [
      "x = 1.1166666666666667 +/- 0.073282810879294\n"
     ]
    }
   ],
   "source": [
    "xArr2 = [ 1.1, 1.3, 1.4, 0.9, 0.95, 1.05]\n",
    "x2Mean, dX2Mean = errorInMultipleTrials(xArr2)\n",
    "print(\"x =\", x2Mean, \"+/-\", dX2Mean)"
   ]
  },
  {
   "cell_type": "markdown",
   "id": "3789da66",
   "metadata": {},
   "source": [
    "The mean of x was found to be $ x = 1.1 \\pm 0.1 $"
   ]
  },
  {
   "cell_type": "markdown",
   "id": "e718cb8a",
   "metadata": {},
   "source": [
    "<h1><b>LaTeX in Jupyter Notebooks</b></h1>"
   ]
  },
  {
   "cell_type": "markdown",
   "id": "e771317c",
   "metadata": {},
   "source": [
    "$ \\delta Q = \\sqrt{\\delta A^2 + \\delta B^2 } $"
   ]
  },
  {
   "cell_type": "markdown",
   "id": "88788714",
   "metadata": {},
   "source": [
    "$ \\delta v_0 = v_0 \\sqrt{ \n",
    "\\Big( \\frac{\\delta \\Delta x_{avg}}{\\Delta x_{avg}} \\Big)^2 +\n",
    "\\Big( \\frac{-0.5 \\delta \\Delta y}{\\Delta y} \\Big)^2 \n",
    "} $"
   ]
  }
 ],
 "metadata": {
  "kernelspec": {
   "display_name": "Python 3",
   "language": "python",
   "name": "python3"
  },
  "language_info": {
   "codemirror_mode": {
    "name": "ipython",
    "version": 3
   },
   "file_extension": ".py",
   "mimetype": "text/x-python",
   "name": "python",
   "nbconvert_exporter": "python",
   "pygments_lexer": "ipython3",
   "version": "3.8.8"
  }
 },
 "nbformat": 4,
 "nbformat_minor": 5
}
